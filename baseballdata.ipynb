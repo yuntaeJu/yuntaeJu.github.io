{
 "cells": [
  {
   "cell_type": "code",
   "execution_count": 1,
   "id": "0295389d",
   "metadata": {},
   "outputs": [],
   "source": [
    "import numpy as np\n",
    "import pandas as pd\n",
    "import matplotlib.pyplot as plt\n",
    "import seaborn as sns\n",
    "import sklearn"
   ]
  },
  {
   "cell_type": "code",
   "execution_count": 2,
   "id": "3ceb29d6",
   "metadata": {},
   "outputs": [],
   "source": [
    "datas = pd.read_csv('player(수정3차).csv', encoding= 'cp949')"
   ]
  },
  {
   "cell_type": "code",
   "execution_count": 23,
   "id": "dcb9eaca",
   "metadata": {},
   "outputs": [
    {
     "name": "stdout",
     "output_type": "stream",
     "text": [
      "<class 'pandas.core.frame.DataFrame'>\n",
      "RangeIndex: 37 entries, 0 to 36\n",
      "Data columns (total 7 columns):\n",
      " #   Column    Non-Null Count  Dtype  \n",
      "---  ------    --------------  -----  \n",
      " 0   wage      37 non-null     float64\n",
      " 1   IP        37 non-null     float64\n",
      " 2   ERA       37 non-null     float64\n",
      " 3   K         37 non-null     float64\n",
      " 4   OOPS      37 non-null     float64\n",
      " 5   wage_cat  37 non-null     object \n",
      " 6   K/9       37 non-null     object \n",
      "dtypes: float64(5), object(2)\n",
      "memory usage: 2.1+ KB\n"
     ]
    }
   ],
   "source": [
    "datas.info()"
   ]
  },
  {
   "cell_type": "code",
   "execution_count": 4,
   "id": "c4d16798",
   "metadata": {},
   "outputs": [
    {
     "data": {
      "text/html": [
       "<div>\n",
       "<style scoped>\n",
       "    .dataframe tbody tr th:only-of-type {\n",
       "        vertical-align: middle;\n",
       "    }\n",
       "\n",
       "    .dataframe tbody tr th {\n",
       "        vertical-align: top;\n",
       "    }\n",
       "\n",
       "    .dataframe thead th {\n",
       "        text-align: right;\n",
       "    }\n",
       "</style>\n",
       "<table border=\"1\" class=\"dataframe\">\n",
       "  <thead>\n",
       "    <tr style=\"text-align: right;\">\n",
       "      <th></th>\n",
       "      <th>wage</th>\n",
       "      <th>IP</th>\n",
       "      <th>ERA</th>\n",
       "      <th>K</th>\n",
       "      <th>OOPS</th>\n",
       "    </tr>\n",
       "  </thead>\n",
       "  <tbody>\n",
       "    <tr>\n",
       "      <th>count</th>\n",
       "      <td>37.000000</td>\n",
       "      <td>37.000000</td>\n",
       "      <td>37.000000</td>\n",
       "      <td>37.000000</td>\n",
       "      <td>37.000000</td>\n",
       "    </tr>\n",
       "    <tr>\n",
       "      <th>mean</th>\n",
       "      <td>1.811892</td>\n",
       "      <td>131.127027</td>\n",
       "      <td>4.982703</td>\n",
       "      <td>6.542973</td>\n",
       "      <td>0.783378</td>\n",
       "    </tr>\n",
       "    <tr>\n",
       "      <th>std</th>\n",
       "      <td>0.919972</td>\n",
       "      <td>17.179472</td>\n",
       "      <td>1.025076</td>\n",
       "      <td>1.124240</td>\n",
       "      <td>0.078145</td>\n",
       "    </tr>\n",
       "    <tr>\n",
       "      <th>min</th>\n",
       "      <td>0.600000</td>\n",
       "      <td>101.100000</td>\n",
       "      <td>3.510000</td>\n",
       "      <td>4.530000</td>\n",
       "      <td>0.662000</td>\n",
       "    </tr>\n",
       "    <tr>\n",
       "      <th>25%</th>\n",
       "      <td>1.000000</td>\n",
       "      <td>118.100000</td>\n",
       "      <td>4.180000</td>\n",
       "      <td>5.540000</td>\n",
       "      <td>0.717000</td>\n",
       "    </tr>\n",
       "    <tr>\n",
       "      <th>50%</th>\n",
       "      <td>1.650000</td>\n",
       "      <td>133.000000</td>\n",
       "      <td>4.870000</td>\n",
       "      <td>6.710000</td>\n",
       "      <td>0.773000</td>\n",
       "    </tr>\n",
       "    <tr>\n",
       "      <th>75%</th>\n",
       "      <td>2.450000</td>\n",
       "      <td>145.100000</td>\n",
       "      <td>5.350000</td>\n",
       "      <td>7.470000</td>\n",
       "      <td>0.830000</td>\n",
       "    </tr>\n",
       "    <tr>\n",
       "      <th>max</th>\n",
       "      <td>3.900000</td>\n",
       "      <td>169.000000</td>\n",
       "      <td>7.540000</td>\n",
       "      <td>8.480000</td>\n",
       "      <td>0.979000</td>\n",
       "    </tr>\n",
       "  </tbody>\n",
       "</table>\n",
       "</div>"
      ],
      "text/plain": [
       "            wage          IP        ERA          K       OOPS\n",
       "count  37.000000   37.000000  37.000000  37.000000  37.000000\n",
       "mean    1.811892  131.127027   4.982703   6.542973   0.783378\n",
       "std     0.919972   17.179472   1.025076   1.124240   0.078145\n",
       "min     0.600000  101.100000   3.510000   4.530000   0.662000\n",
       "25%     1.000000  118.100000   4.180000   5.540000   0.717000\n",
       "50%     1.650000  133.000000   4.870000   6.710000   0.773000\n",
       "75%     2.450000  145.100000   5.350000   7.470000   0.830000\n",
       "max     3.900000  169.000000   7.540000   8.480000   0.979000"
      ]
     },
     "execution_count": 4,
     "metadata": {},
     "output_type": "execute_result"
    }
   ],
   "source": [
    "datas.describe()"
   ]
  },
  {
   "cell_type": "code",
   "execution_count": 5,
   "id": "83446f7c",
   "metadata": {},
   "outputs": [
    {
     "data": {
      "text/html": [
       "<div>\n",
       "<style scoped>\n",
       "    .dataframe tbody tr th:only-of-type {\n",
       "        vertical-align: middle;\n",
       "    }\n",
       "\n",
       "    .dataframe tbody tr th {\n",
       "        vertical-align: top;\n",
       "    }\n",
       "\n",
       "    .dataframe thead th {\n",
       "        text-align: right;\n",
       "    }\n",
       "</style>\n",
       "<table border=\"1\" class=\"dataframe\">\n",
       "  <thead>\n",
       "    <tr style=\"text-align: right;\">\n",
       "      <th></th>\n",
       "      <th>wage</th>\n",
       "      <th>IP</th>\n",
       "      <th>ERA</th>\n",
       "      <th>K</th>\n",
       "      <th>OOPS</th>\n",
       "    </tr>\n",
       "  </thead>\n",
       "  <tbody>\n",
       "    <tr>\n",
       "      <th>wage</th>\n",
       "      <td>1.000000</td>\n",
       "      <td>0.583502</td>\n",
       "      <td>-0.449429</td>\n",
       "      <td>0.120737</td>\n",
       "      <td>-0.366136</td>\n",
       "    </tr>\n",
       "    <tr>\n",
       "      <th>IP</th>\n",
       "      <td>0.583502</td>\n",
       "      <td>1.000000</td>\n",
       "      <td>-0.405599</td>\n",
       "      <td>0.465327</td>\n",
       "      <td>-0.326310</td>\n",
       "    </tr>\n",
       "    <tr>\n",
       "      <th>ERA</th>\n",
       "      <td>-0.449429</td>\n",
       "      <td>-0.405599</td>\n",
       "      <td>1.000000</td>\n",
       "      <td>-0.312964</td>\n",
       "      <td>0.834938</td>\n",
       "    </tr>\n",
       "    <tr>\n",
       "      <th>K</th>\n",
       "      <td>0.120737</td>\n",
       "      <td>0.465327</td>\n",
       "      <td>-0.312964</td>\n",
       "      <td>1.000000</td>\n",
       "      <td>-0.361149</td>\n",
       "    </tr>\n",
       "    <tr>\n",
       "      <th>OOPS</th>\n",
       "      <td>-0.366136</td>\n",
       "      <td>-0.326310</td>\n",
       "      <td>0.834938</td>\n",
       "      <td>-0.361149</td>\n",
       "      <td>1.000000</td>\n",
       "    </tr>\n",
       "  </tbody>\n",
       "</table>\n",
       "</div>"
      ],
      "text/plain": [
       "          wage        IP       ERA         K      OOPS\n",
       "wage  1.000000  0.583502 -0.449429  0.120737 -0.366136\n",
       "IP    0.583502  1.000000 -0.405599  0.465327 -0.326310\n",
       "ERA  -0.449429 -0.405599  1.000000 -0.312964  0.834938\n",
       "K     0.120737  0.465327 -0.312964  1.000000 -0.361149\n",
       "OOPS -0.366136 -0.326310  0.834938 -0.361149  1.000000"
      ]
     },
     "execution_count": 5,
     "metadata": {},
     "output_type": "execute_result"
    }
   ],
   "source": [
    "corr = datas.corr()\n",
    "corr"
   ]
  },
  {
   "cell_type": "code",
   "execution_count": 6,
   "id": "a21e78df",
   "metadata": {},
   "outputs": [
    {
     "data": {
      "text/plain": [
       "<AxesSubplot:>"
      ]
     },
     "execution_count": 6,
     "metadata": {},
     "output_type": "execute_result"
    },
    {
     "data": {
      "image/png": "[encoded data removed]",
      "text/plain": [
       "<Figure size 432x288 with 2 Axes>"
      ]
     },
     "metadata": {
      "needs_background": "light"
     },
     "output_type": "display_data"
    }
   ],
   "source": [
    "sns.heatmap(corr, annot=True)"
   ]
  },
  {
   "cell_type": "code",
   "execution_count": 7,
   "id": "f4bb1416",
   "metadata": {},
   "outputs": [],
   "source": [
    "def wage_analyzer(money):\n",
    "    cat = ''\n",
    "    if money <= 1:cat = 'low'\n",
    "    elif money <= 2: cat = 'med'\n",
    "    else: cat = 'high'\n",
    "        \n",
    "    return cat"
   ]
  },
  {
   "cell_type": "code",
   "execution_count": 8,
   "id": "2c47ca6f",
   "metadata": {},
   "outputs": [],
   "source": [
    "datas['wage_cat'] = datas['wage'].apply(lambda x : wage_analyzer(x))"
   ]
  },
  {
   "cell_type": "code",
   "execution_count": 9,
   "id": "1fc55d1d",
   "metadata": {},
   "outputs": [
    {
     "data": {
      "text/plain": [
       "<AxesSubplot:xlabel='wage_cat', ylabel='IP'>"
      ]
     },
     "execution_count": 9,
     "metadata": {},
     "output_type": "execute_result"
    },
    {
     "data": {
      "image/png": "[encoded data removed]",
      "text/plain": [
       "<Figure size 432x288 with 1 Axes>"
      ]
     },
     "metadata": {
      "needs_background": "light"
     },
     "output_type": "display_data"
    }
   ],
   "source": [
    "sns.violinplot(x='wage_cat', y='IP', data=datas)"
   ]
  },
  {
   "cell_type": "code",
   "execution_count": 10,
   "id": "16c0043c",
   "metadata": {},
   "outputs": [],
   "source": [
    "def strikeout_analyzer(strike):\n",
    "    sk = ''\n",
    "    if 4<= strike <5 : sk = 'low'\n",
    "    elif 5 <= strike < 7: sk ='med'\n",
    "    else: sk ='high'\n",
    "        \n",
    "    return sk\n",
    "    "
   ]
  },
  {
   "cell_type": "code",
   "execution_count": 11,
   "id": "47f403bf",
   "metadata": {},
   "outputs": [],
   "source": [
    "datas['K/9'] = datas['K'].apply(lambda x : strikeout_analyzer(x))"
   ]
  },
  {
   "cell_type": "code",
   "execution_count": 12,
   "id": "18eb5f00",
   "metadata": {},
   "outputs": [
    {
     "data": {
      "text/plain": [
       "<AxesSubplot:xlabel='K/9', ylabel='IP'>"
      ]
     },
     "execution_count": 12,
     "metadata": {},
     "output_type": "execute_result"
    },
    {
     "data": {
      "image/png": "[encoded data removed]",
      "text/plain": [
       "<Figure size 432x288 with 1 Axes>"
      ]
     },
     "metadata": {
      "needs_background": "light"
     },
     "output_type": "display_data"
    }
   ],
   "source": [
    "sns.violinplot(x='K/9', y='IP', data=datas)"
   ]
  },
  {
   "cell_type": "code",
   "execution_count": 13,
   "id": "5f56da5d",
   "metadata": {},
   "outputs": [
    {
     "name": "stdout",
     "output_type": "stream",
     "text": [
      "0.24.2\n"
     ]
    }
   ],
   "source": [
    "import sklearn\n",
    "print(sklearn.__version__)"
   ]
  },
  {
   "cell_type": "code",
   "execution_count": 14,
   "id": "273edf0a",
   "metadata": {},
   "outputs": [
    {
     "data": {
      "text/plain": [
       "med     13\n",
       "high    12\n",
       "low     12\n",
       "Name: wage_cat, dtype: int64"
      ]
     },
     "execution_count": 14,
     "metadata": {},
     "output_type": "execute_result"
    }
   ],
   "source": [
    "datas['wage_cat'].value_counts()"
   ]
  },
  {
   "cell_type": "code",
   "execution_count": 15,
   "id": "b56b21b3",
   "metadata": {},
   "outputs": [],
   "source": [
    "from sklearn.cluster import KMeans"
   ]
  },
  {
   "cell_type": "code",
   "execution_count": 18,
   "id": "8a90c067",
   "metadata": {},
   "outputs": [
    {
     "data": {
      "text/html": [
       "<div>\n",
       "<style scoped>\n",
       "    .dataframe tbody tr th:only-of-type {\n",
       "        vertical-align: middle;\n",
       "    }\n",
       "\n",
       "    .dataframe tbody tr th {\n",
       "        vertical-align: top;\n",
       "    }\n",
       "\n",
       "    .dataframe thead th {\n",
       "        text-align: right;\n",
       "    }\n",
       "</style>\n",
       "<table border=\"1\" class=\"dataframe\">\n",
       "  <thead>\n",
       "    <tr style=\"text-align: right;\">\n",
       "      <th></th>\n",
       "      <th>wage</th>\n",
       "      <th>IP</th>\n",
       "      <th>ERA</th>\n",
       "      <th>K</th>\n",
       "      <th>OOPS</th>\n",
       "    </tr>\n",
       "  </thead>\n",
       "  <tbody>\n",
       "    <tr>\n",
       "      <th>0</th>\n",
       "      <td>3.20</td>\n",
       "      <td>154.1</td>\n",
       "      <td>4.37</td>\n",
       "      <td>7.81</td>\n",
       "      <td>0.704</td>\n",
       "    </tr>\n",
       "    <tr>\n",
       "      <th>1</th>\n",
       "      <td>2.20</td>\n",
       "      <td>147.2</td>\n",
       "      <td>4.08</td>\n",
       "      <td>8.41</td>\n",
       "      <td>0.719</td>\n",
       "    </tr>\n",
       "    <tr>\n",
       "      <th>2</th>\n",
       "      <td>1.65</td>\n",
       "      <td>147.1</td>\n",
       "      <td>4.70</td>\n",
       "      <td>6.60</td>\n",
       "      <td>0.806</td>\n",
       "    </tr>\n",
       "    <tr>\n",
       "      <th>3</th>\n",
       "      <td>1.60</td>\n",
       "      <td>146.0</td>\n",
       "      <td>3.58</td>\n",
       "      <td>7.58</td>\n",
       "      <td>0.662</td>\n",
       "    </tr>\n",
       "    <tr>\n",
       "      <th>4</th>\n",
       "      <td>1.30</td>\n",
       "      <td>140.0</td>\n",
       "      <td>4.89</td>\n",
       "      <td>5.01</td>\n",
       "      <td>0.809</td>\n",
       "    </tr>\n",
       "  </tbody>\n",
       "</table>\n",
       "</div>"
      ],
      "text/plain": [
       "   wage     IP   ERA     K   OOPS\n",
       "0  3.20  154.1  4.37  7.81  0.704\n",
       "1  2.20  147.2  4.08  8.41  0.719\n",
       "2  1.65  147.1  4.70  6.60  0.806\n",
       "3  1.60  146.0  3.58  7.58  0.662\n",
       "4  1.30  140.0  4.89  5.01  0.809"
      ]
     },
     "execution_count": 18,
     "metadata": {},
     "output_type": "execute_result"
    }
   ],
   "source": [
    "data = datas.drop(['wage_cat', 'K/9'], axis =1 )\n",
    "data.head()"
   ]
  },
  {
   "cell_type": "code",
   "execution_count": 32,
   "id": "a1cbcadc",
   "metadata": {},
   "outputs": [
    {
     "data": {
      "text/plain": [
       "KMeans(n_clusters=4, random_state=0)"
      ]
     },
     "execution_count": 32,
     "metadata": {},
     "output_type": "execute_result"
    }
   ],
   "source": [
    "kmeans = KMeans(n_clusters=4, init='k-means++', max_iter=300,random_state=0)\n",
    "kmeans.fit(data)"
   ]
  },
  {
   "cell_type": "code",
   "execution_count": 33,
   "id": "17b2b442",
   "metadata": {},
   "outputs": [
    {
     "data": {
      "text/html": [
       "<div>\n",
       "<style scoped>\n",
       "    .dataframe tbody tr th:only-of-type {\n",
       "        vertical-align: middle;\n",
       "    }\n",
       "\n",
       "    .dataframe tbody tr th {\n",
       "        vertical-align: top;\n",
       "    }\n",
       "\n",
       "    .dataframe thead th {\n",
       "        text-align: right;\n",
       "    }\n",
       "</style>\n",
       "<table border=\"1\" class=\"dataframe\">\n",
       "  <thead>\n",
       "    <tr style=\"text-align: right;\">\n",
       "      <th></th>\n",
       "      <th>wage</th>\n",
       "      <th>IP</th>\n",
       "      <th>ERA</th>\n",
       "      <th>K</th>\n",
       "      <th>OOPS</th>\n",
       "      <th>cluster</th>\n",
       "      <th>pca_x</th>\n",
       "      <th>pca_y</th>\n",
       "      <th>silhouette_coeff</th>\n",
       "    </tr>\n",
       "  </thead>\n",
       "  <tbody>\n",
       "    <tr>\n",
       "      <th>0</th>\n",
       "      <td>3.20</td>\n",
       "      <td>154.1</td>\n",
       "      <td>4.37</td>\n",
       "      <td>7.81</td>\n",
       "      <td>0.704</td>\n",
       "      <td>0</td>\n",
       "      <td>23.059326</td>\n",
       "      <td>-0.214894</td>\n",
       "      <td>0.649490</td>\n",
       "    </tr>\n",
       "    <tr>\n",
       "      <th>1</th>\n",
       "      <td>2.20</td>\n",
       "      <td>147.2</td>\n",
       "      <td>4.08</td>\n",
       "      <td>8.41</td>\n",
       "      <td>0.719</td>\n",
       "      <td>3</td>\n",
       "      <td>16.163624</td>\n",
       "      <td>-1.010164</td>\n",
       "      <td>0.619430</td>\n",
       "    </tr>\n",
       "    <tr>\n",
       "      <th>2</th>\n",
       "      <td>1.65</td>\n",
       "      <td>147.1</td>\n",
       "      <td>4.70</td>\n",
       "      <td>6.60</td>\n",
       "      <td>0.806</td>\n",
       "      <td>3</td>\n",
       "      <td>15.976207</td>\n",
       "      <td>0.619896</td>\n",
       "      <td>0.623285</td>\n",
       "    </tr>\n",
       "    <tr>\n",
       "      <th>3</th>\n",
       "      <td>1.60</td>\n",
       "      <td>146.0</td>\n",
       "      <td>3.58</td>\n",
       "      <td>7.58</td>\n",
       "      <td>0.662</td>\n",
       "      <td>3</td>\n",
       "      <td>14.933548</td>\n",
       "      <td>-0.801497</td>\n",
       "      <td>0.570004</td>\n",
       "    </tr>\n",
       "    <tr>\n",
       "      <th>4</th>\n",
       "      <td>1.30</td>\n",
       "      <td>140.0</td>\n",
       "      <td>4.89</td>\n",
       "      <td>5.01</td>\n",
       "      <td>0.809</td>\n",
       "      <td>3</td>\n",
       "      <td>8.779298</td>\n",
       "      <td>0.916264</td>\n",
       "      <td>0.067153</td>\n",
       "    </tr>\n",
       "  </tbody>\n",
       "</table>\n",
       "</div>"
      ],
      "text/plain": [
       "   wage     IP   ERA     K   OOPS  cluster      pca_x     pca_y  \\\n",
       "0  3.20  154.1  4.37  7.81  0.704        0  23.059326 -0.214894   \n",
       "1  2.20  147.2  4.08  8.41  0.719        3  16.163624 -1.010164   \n",
       "2  1.65  147.1  4.70  6.60  0.806        3  15.976207  0.619896   \n",
       "3  1.60  146.0  3.58  7.58  0.662        3  14.933548 -0.801497   \n",
       "4  1.30  140.0  4.89  5.01  0.809        3   8.779298  0.916264   \n",
       "\n",
       "   silhouette_coeff  \n",
       "0          0.649490  \n",
       "1          0.619430  \n",
       "2          0.623285  \n",
       "3          0.570004  \n",
       "4          0.067153  "
      ]
     },
     "execution_count": 33,
     "metadata": {},
     "output_type": "execute_result"
    }
   ],
   "source": [
    "data['cluster'] = kmeans.labels_\n",
    "data.head()"
   ]
  },
  {
   "cell_type": "code",
   "execution_count": 34,
   "id": "673ecaa5",
   "metadata": {},
   "outputs": [
    {
     "data": {
      "text/html": [
       "<div>\n",
       "<style scoped>\n",
       "    .dataframe tbody tr th:only-of-type {\n",
       "        vertical-align: middle;\n",
       "    }\n",
       "\n",
       "    .dataframe tbody tr th {\n",
       "        vertical-align: top;\n",
       "    }\n",
       "\n",
       "    .dataframe thead th {\n",
       "        text-align: right;\n",
       "    }\n",
       "</style>\n",
       "<table border=\"1\" class=\"dataframe\">\n",
       "  <thead>\n",
       "    <tr style=\"text-align: right;\">\n",
       "      <th></th>\n",
       "      <th>wage</th>\n",
       "      <th>IP</th>\n",
       "      <th>ERA</th>\n",
       "      <th>K</th>\n",
       "      <th>OOPS</th>\n",
       "      <th>cluster</th>\n",
       "      <th>pca_x</th>\n",
       "      <th>pca_y</th>\n",
       "      <th>silhouette_coeff</th>\n",
       "    </tr>\n",
       "  </thead>\n",
       "  <tbody>\n",
       "    <tr>\n",
       "      <th>0</th>\n",
       "      <td>3.20</td>\n",
       "      <td>154.1</td>\n",
       "      <td>4.37</td>\n",
       "      <td>7.81</td>\n",
       "      <td>0.704</td>\n",
       "      <td>0</td>\n",
       "      <td>32.598258</td>\n",
       "      <td>-0.811220</td>\n",
       "      <td>0.649490</td>\n",
       "    </tr>\n",
       "    <tr>\n",
       "      <th>1</th>\n",
       "      <td>2.20</td>\n",
       "      <td>147.2</td>\n",
       "      <td>4.08</td>\n",
       "      <td>8.41</td>\n",
       "      <td>0.719</td>\n",
       "      <td>3</td>\n",
       "      <td>22.844455</td>\n",
       "      <td>-1.405580</td>\n",
       "      <td>0.619430</td>\n",
       "    </tr>\n",
       "    <tr>\n",
       "      <th>2</th>\n",
       "      <td>1.65</td>\n",
       "      <td>147.1</td>\n",
       "      <td>4.70</td>\n",
       "      <td>6.60</td>\n",
       "      <td>0.806</td>\n",
       "      <td>3</td>\n",
       "      <td>22.579342</td>\n",
       "      <td>0.943786</td>\n",
       "      <td>0.623285</td>\n",
       "    </tr>\n",
       "    <tr>\n",
       "      <th>3</th>\n",
       "      <td>1.60</td>\n",
       "      <td>146.0</td>\n",
       "      <td>3.58</td>\n",
       "      <td>7.58</td>\n",
       "      <td>0.662</td>\n",
       "      <td>3</td>\n",
       "      <td>21.104795</td>\n",
       "      <td>-1.096759</td>\n",
       "      <td>0.570004</td>\n",
       "    </tr>\n",
       "    <tr>\n",
       "      <th>4</th>\n",
       "      <td>1.30</td>\n",
       "      <td>140.0</td>\n",
       "      <td>4.89</td>\n",
       "      <td>5.01</td>\n",
       "      <td>0.809</td>\n",
       "      <td>3</td>\n",
       "      <td>12.432359</td>\n",
       "      <td>1.862502</td>\n",
       "      <td>0.067153</td>\n",
       "    </tr>\n",
       "  </tbody>\n",
       "</table>\n",
       "</div>"
      ],
      "text/plain": [
       "   wage     IP   ERA     K   OOPS  cluster      pca_x     pca_y  \\\n",
       "0  3.20  154.1  4.37  7.81  0.704        0  32.598258 -0.811220   \n",
       "1  2.20  147.2  4.08  8.41  0.719        3  22.844455 -1.405580   \n",
       "2  1.65  147.1  4.70  6.60  0.806        3  22.579342  0.943786   \n",
       "3  1.60  146.0  3.58  7.58  0.662        3  21.104795 -1.096759   \n",
       "4  1.30  140.0  4.89  5.01  0.809        3  12.432359  1.862502   \n",
       "\n",
       "   silhouette_coeff  \n",
       "0          0.649490  \n",
       "1          0.619430  \n",
       "2          0.623285  \n",
       "3          0.570004  \n",
       "4          0.067153  "
      ]
     },
     "execution_count": 34,
     "metadata": {},
     "output_type": "execute_result"
    }
   ],
   "source": [
    "from sklearn.decomposition import PCA\n",
    "\n",
    "pca = PCA(n_components=2)\n",
    "pca_transformed = pca.fit_transform(data)\n",
    "\n",
    "data['pca_x'] = pca_transformed[:,0]\n",
    "data['pca_y'] = pca_transformed[:,1]\n",
    "data.head()"
   ]
  },
  {
   "cell_type": "code",
   "execution_count": 35,
   "id": "b5e8368f",
   "metadata": {},
   "outputs": [
    {
     "data": {
      "text/plain": [
       "<matplotlib.collections.PathCollection at 0x1b9eb3b5ca0>"
      ]
     },
     "execution_count": 35,
     "metadata": {},
     "output_type": "execute_result"
    },
    {
     "data": {
      "image/png": "[encoded data removed]",
      "text/plain": [
       "<Figure size 432x288 with 1 Axes>"
      ]
     },
     "metadata": {
      "needs_background": "light"
     },
     "output_type": "display_data"
    }
   ],
   "source": [
    "plt.scatter(x=data.loc[:, 'pca_x'], y=data.loc[:, 'pca_y'], c=data['cluster']) "
   ]
  },
  {
   "cell_type": "code",
   "execution_count": 36,
   "id": "dc3f8e94",
   "metadata": {},
   "outputs": [],
   "source": [
    "from sklearn.metrics import silhouette_samples, silhouette_score"
   ]
  },
  {
   "cell_type": "code",
   "execution_count": 37,
   "id": "00b74e7b",
   "metadata": {},
   "outputs": [],
   "source": [
    "score_samples = silhouette_samples(data, data['cluster'])\n",
    "\n",
    "data['silhouette_coeff'] = score_samples"
   ]
  },
  {
   "cell_type": "code",
   "execution_count": 38,
   "id": "46f58c95",
   "metadata": {},
   "outputs": [
    {
     "data": {
      "text/html": [
       "<div>\n",
       "<style scoped>\n",
       "    .dataframe tbody tr th:only-of-type {\n",
       "        vertical-align: middle;\n",
       "    }\n",
       "\n",
       "    .dataframe tbody tr th {\n",
       "        vertical-align: top;\n",
       "    }\n",
       "\n",
       "    .dataframe thead th {\n",
       "        text-align: right;\n",
       "    }\n",
       "</style>\n",
       "<table border=\"1\" class=\"dataframe\">\n",
       "  <thead>\n",
       "    <tr style=\"text-align: right;\">\n",
       "      <th></th>\n",
       "      <th>wage</th>\n",
       "      <th>IP</th>\n",
       "      <th>ERA</th>\n",
       "      <th>K</th>\n",
       "      <th>OOPS</th>\n",
       "      <th>cluster</th>\n",
       "      <th>pca_x</th>\n",
       "      <th>pca_y</th>\n",
       "      <th>silhouette_coeff</th>\n",
       "    </tr>\n",
       "  </thead>\n",
       "  <tbody>\n",
       "    <tr>\n",
       "      <th>0</th>\n",
       "      <td>3.20</td>\n",
       "      <td>154.1</td>\n",
       "      <td>4.37</td>\n",
       "      <td>7.81</td>\n",
       "      <td>0.704</td>\n",
       "      <td>0</td>\n",
       "      <td>32.598258</td>\n",
       "      <td>-0.811220</td>\n",
       "      <td>-0.066959</td>\n",
       "    </tr>\n",
       "    <tr>\n",
       "      <th>1</th>\n",
       "      <td>2.20</td>\n",
       "      <td>147.2</td>\n",
       "      <td>4.08</td>\n",
       "      <td>8.41</td>\n",
       "      <td>0.719</td>\n",
       "      <td>3</td>\n",
       "      <td>22.844455</td>\n",
       "      <td>-1.405580</td>\n",
       "      <td>0.674779</td>\n",
       "    </tr>\n",
       "    <tr>\n",
       "      <th>2</th>\n",
       "      <td>1.65</td>\n",
       "      <td>147.1</td>\n",
       "      <td>4.70</td>\n",
       "      <td>6.60</td>\n",
       "      <td>0.806</td>\n",
       "      <td>3</td>\n",
       "      <td>22.579342</td>\n",
       "      <td>0.943786</td>\n",
       "      <td>0.698009</td>\n",
       "    </tr>\n",
       "    <tr>\n",
       "      <th>3</th>\n",
       "      <td>1.60</td>\n",
       "      <td>146.0</td>\n",
       "      <td>3.58</td>\n",
       "      <td>7.58</td>\n",
       "      <td>0.662</td>\n",
       "      <td>3</td>\n",
       "      <td>21.104795</td>\n",
       "      <td>-1.096759</td>\n",
       "      <td>0.723115</td>\n",
       "    </tr>\n",
       "    <tr>\n",
       "      <th>4</th>\n",
       "      <td>1.30</td>\n",
       "      <td>140.0</td>\n",
       "      <td>4.89</td>\n",
       "      <td>5.01</td>\n",
       "      <td>0.809</td>\n",
       "      <td>3</td>\n",
       "      <td>12.432359</td>\n",
       "      <td>1.862502</td>\n",
       "      <td>0.374874</td>\n",
       "    </tr>\n",
       "  </tbody>\n",
       "</table>\n",
       "</div>"
      ],
      "text/plain": [
       "   wage     IP   ERA     K   OOPS  cluster      pca_x     pca_y  \\\n",
       "0  3.20  154.1  4.37  7.81  0.704        0  32.598258 -0.811220   \n",
       "1  2.20  147.2  4.08  8.41  0.719        3  22.844455 -1.405580   \n",
       "2  1.65  147.1  4.70  6.60  0.806        3  22.579342  0.943786   \n",
       "3  1.60  146.0  3.58  7.58  0.662        3  21.104795 -1.096759   \n",
       "4  1.30  140.0  4.89  5.01  0.809        3  12.432359  1.862502   \n",
       "\n",
       "   silhouette_coeff  \n",
       "0         -0.066959  \n",
       "1          0.674779  \n",
       "2          0.698009  \n",
       "3          0.723115  \n",
       "4          0.374874  "
      ]
     },
     "execution_count": 38,
     "metadata": {},
     "output_type": "execute_result"
    }
   ],
   "source": [
    "data.head()"
   ]
  },
  {
   "cell_type": "code",
   "execution_count": 39,
   "id": "a452232d",
   "metadata": {},
   "outputs": [
    {
     "data": {
      "text/plain": [
       "<AxesSubplot:>"
      ]
     },
     "execution_count": 39,
     "metadata": {},
     "output_type": "execute_result"
    },
    {
     "data": {
      "image/png": "[encoded data removed]",
      "text/plain": [
       "<Figure size 432x288 with 1 Axes>"
      ]
     },
     "metadata": {
      "needs_background": "light"
     },
     "output_type": "display_data"
    }
   ],
   "source": [
    "data['silhouette_coeff'].hist()"
   ]
  },
  {
   "cell_type": "code",
   "execution_count": 40,
   "id": "77189626",
   "metadata": {},
   "outputs": [
    {
     "data": {
      "text/plain": [
       "cluster\n",
       "0    0.292490\n",
       "1    0.588829\n",
       "2    0.675066\n",
       "3    0.523496\n",
       "Name: silhouette_coeff, dtype: float64"
      ]
     },
     "execution_count": 40,
     "metadata": {},
     "output_type": "execute_result"
    }
   ],
   "source": [
    "data.groupby('cluster')['silhouette_coeff'].mean()"
   ]
  },
  {
   "cell_type": "code",
   "execution_count": null,
   "id": "a65a5cd4",
   "metadata": {},
   "outputs": [],
   "source": []
  }
 ],
 "metadata": {
  "kernelspec": {
   "display_name": "Python 3 (ipykernel)",
   "language": "python",
   "name": "python3"
  },
  "language_info": {
   "codemirror_mode": {
    "name": "ipython",
    "version": 3
   },
   "file_extension": ".py",
   "mimetype": "text/x-python",
   "name": "python",
   "nbconvert_exporter": "python",
   "pygments_lexer": "ipython3",
   "version": "3.9.7"
  }
 },
 "nbformat": 4,
 "nbformat_minor": 5
}
