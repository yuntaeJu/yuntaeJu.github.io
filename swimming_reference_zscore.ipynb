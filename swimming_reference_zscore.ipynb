{
 "cells": [
  {
   "cell_type": "markdown",
   "id": "0d814163",
   "metadata": {},
   "source": [
    "# 중국 선수들 그래프 그리기\n",
    "* 중간에 그래프 그리는 과정들을 자동화 시키는 코드들이 있습니다"
   ]
  },
  {
   "cell_type": "code",
   "execution_count": 1,
   "id": "d422f849",
   "metadata": {},
   "outputs": [],
   "source": [
    "import pandas as pd\n",
    "import numpy as np\n",
    "import matplotlib.pyplot as plt\n",
    "import seaborn as sns\n",
    "import sklearn"
   ]
  },
  {
   "cell_type": "code",
   "execution_count": 2,
   "id": "d9285379",
   "metadata": {},
   "outputs": [],
   "source": [
    "import warnings\n",
    "warnings.filterwarnings('ignore')"
   ]
  },
  {
   "cell_type": "code",
   "execution_count": 3,
   "id": "18c64c2c",
   "metadata": {},
   "outputs": [],
   "source": [
    "from sklearn.preprocessing import StandardScaler"
   ]
  },
  {
   "cell_type": "code",
   "execution_count": 4,
   "id": "449d6773",
   "metadata": {},
   "outputs": [
    {
     "data": {
      "text/html": [
       "<div>\n",
       "<style scoped>\n",
       "    .dataframe tbody tr th:only-of-type {\n",
       "        vertical-align: middle;\n",
       "    }\n",
       "\n",
       "    .dataframe tbody tr th {\n",
       "        vertical-align: top;\n",
       "    }\n",
       "\n",
       "    .dataframe thead th {\n",
       "        text-align: right;\n",
       "    }\n",
       "</style>\n",
       "<table border=\"1\" class=\"dataframe\">\n",
       "  <thead>\n",
       "    <tr style=\"text-align: right;\">\n",
       "      <th></th>\n",
       "      <th>Name</th>\n",
       "      <th>Event</th>\n",
       "      <th>Event(cat)</th>\n",
       "      <th>Time</th>\n",
       "      <th>Age</th>\n",
       "      <th>Competition</th>\n",
       "    </tr>\n",
       "  </thead>\n",
       "  <tbody>\n",
       "    <tr>\n",
       "      <th>0</th>\n",
       "      <td>Bao Ban</td>\n",
       "      <td>Men 50m Freestyle</td>\n",
       "      <td>50m Freestyle</td>\n",
       "      <td>23.33</td>\n",
       "      <td>30</td>\n",
       "      <td>The National Games</td>\n",
       "    </tr>\n",
       "    <tr>\n",
       "      <th>1</th>\n",
       "      <td>Bao Ban</td>\n",
       "      <td>Men 50m Freestyle</td>\n",
       "      <td>50m Freestyle</td>\n",
       "      <td>23.45</td>\n",
       "      <td>30</td>\n",
       "      <td>Chinese National Summer Championships (50m)</td>\n",
       "    </tr>\n",
       "    <tr>\n",
       "      <th>2</th>\n",
       "      <td>Bao Ban</td>\n",
       "      <td>Men 50m Freestyle</td>\n",
       "      <td>50m Freestyle</td>\n",
       "      <td>22.63</td>\n",
       "      <td>26</td>\n",
       "      <td>2017 National Games</td>\n",
       "    </tr>\n",
       "  </tbody>\n",
       "</table>\n",
       "</div>"
      ],
      "text/plain": [
       "      Name              Event     Event(cat)   Time Age  \\\n",
       "0  Bao Ban  Men 50m Freestyle  50m Freestyle  23.33  30   \n",
       "1  Bao Ban  Men 50m Freestyle  50m Freestyle  23.45  30   \n",
       "2  Bao Ban  Men 50m Freestyle  50m Freestyle  22.63  26   \n",
       "\n",
       "                                   Competition  \n",
       "0                           The National Games  \n",
       "1  Chinese National Summer Championships (50m)  \n",
       "2                          2017 National Games  "
      ]
     },
     "execution_count": 4,
     "metadata": {},
     "output_type": "execute_result"
    }
   ],
   "source": [
    "data = pd.read_csv('swimming_reference.csv', encoding = 'cp949')\n",
    "data.head(3)"
   ]
  },
  {
   "cell_type": "code",
   "execution_count": 5,
   "id": "f2240661",
   "metadata": {},
   "outputs": [
    {
     "data": {
      "text/plain": [
       "Xiang Li         102\n",
       "Yun Hao           92\n",
       "Feiyi Cheng       56\n",
       "Junyi He          49\n",
       "Jigong Diao       42\n",
       "Yujie Hou         34\n",
       "Liwei Fei         34\n",
       "Jinlong Hong      33\n",
       "Bao Ban           33\n",
       "Yifan Dong        33\n",
       "Yuhui Jiang       32\n",
       "Haiqi Jiang       30\n",
       "Zhongjian Lai     26\n",
       "Gong Cheng        23\n",
       "Yunkun Huang      21\n",
       "Zilong He         20\n",
       "Shaoqing Ban      17\n",
       "Haifeng Fu        12\n",
       "Yu Cong           11\n",
       "Juaqu Huang       10\n",
       "Name: Name, dtype: int64"
      ]
     },
     "execution_count": 5,
     "metadata": {},
     "output_type": "execute_result"
    }
   ],
   "source": [
    "data['Name'].value_counts()"
   ]
  },
  {
   "cell_type": "code",
   "execution_count": 6,
   "id": "93eb772a",
   "metadata": {},
   "outputs": [],
   "source": [
    "# 선수 분류기\n",
    "def namer(name) :\n",
    "    return data[data['Name'] == name]"
   ]
  },
  {
   "cell_type": "code",
   "execution_count": 7,
   "id": "d4204576",
   "metadata": {},
   "outputs": [],
   "source": [
    "# 대회별 분류기\n",
    "def event_judge(player, event):\n",
    "    return(player[player['Event'] == event])"
   ]
  },
  {
   "cell_type": "code",
   "execution_count": 8,
   "id": "e78cd373",
   "metadata": {},
   "outputs": [],
   "source": [
    "# 시간 변환기\n",
    "def time_changer(times):\n",
    "    time_list = []\n",
    "    for time in times:\n",
    "        if len(time) <= 5:\n",
    "            time = float(time)\n",
    "        else:\n",
    "            time = float(time.split(':')[0])*60 + float(time.split(':')[1])\n",
    "        time_list.append(time)\n",
    "    return(time_list)"
   ]
  },
  {
   "cell_type": "code",
   "execution_count": 9,
   "id": "5af546e9",
   "metadata": {},
   "outputs": [],
   "source": [
    "data['Time'] = time_changer(data['Time'])"
   ]
  },
  {
   "cell_type": "code",
   "execution_count": 10,
   "id": "89721332",
   "metadata": {},
   "outputs": [
    {
     "data": {
      "text/html": [
       "<div>\n",
       "<style scoped>\n",
       "    .dataframe tbody tr th:only-of-type {\n",
       "        vertical-align: middle;\n",
       "    }\n",
       "\n",
       "    .dataframe tbody tr th {\n",
       "        vertical-align: top;\n",
       "    }\n",
       "\n",
       "    .dataframe thead th {\n",
       "        text-align: right;\n",
       "    }\n",
       "</style>\n",
       "<table border=\"1\" class=\"dataframe\">\n",
       "  <thead>\n",
       "    <tr style=\"text-align: right;\">\n",
       "      <th></th>\n",
       "      <th>Name</th>\n",
       "      <th>Event</th>\n",
       "      <th>Event(cat)</th>\n",
       "      <th>Time</th>\n",
       "      <th>Age</th>\n",
       "      <th>Competition</th>\n",
       "    </tr>\n",
       "  </thead>\n",
       "  <tbody>\n",
       "    <tr>\n",
       "      <th>707</th>\n",
       "      <td>Haiqi Jiang</td>\n",
       "      <td>Men 4x100m Freestyle Relay</td>\n",
       "      <td>4x100m Freestyle Relay</td>\n",
       "      <td>196.3</td>\n",
       "      <td>18</td>\n",
       "      <td>16th Asian Games 2010</td>\n",
       "    </tr>\n",
       "    <tr>\n",
       "      <th>708</th>\n",
       "      <td>Haiqi Jiang</td>\n",
       "      <td>Men 4x200m Freestyle Relay</td>\n",
       "      <td>4x200m Freestyle Relay</td>\n",
       "      <td>427.7</td>\n",
       "      <td>18</td>\n",
       "      <td>16th Asian Games 2010</td>\n",
       "    </tr>\n",
       "    <tr>\n",
       "      <th>709</th>\n",
       "      <td>Haiqi Jiang</td>\n",
       "      <td>Men 4x200m Freestyle Relay</td>\n",
       "      <td>4x200m Freestyle Relay</td>\n",
       "      <td>427.7</td>\n",
       "      <td>18</td>\n",
       "      <td>16th Asian Games 2010</td>\n",
       "    </tr>\n",
       "  </tbody>\n",
       "</table>\n",
       "</div>"
      ],
      "text/plain": [
       "            Name                       Event              Event(cat)   Time  \\\n",
       "707  Haiqi Jiang  Men 4x100m Freestyle Relay  4x100m Freestyle Relay  196.3   \n",
       "708  Haiqi Jiang  Men 4x200m Freestyle Relay  4x200m Freestyle Relay  427.7   \n",
       "709  Haiqi Jiang  Men 4x200m Freestyle Relay  4x200m Freestyle Relay  427.7   \n",
       "\n",
       "    Age            Competition  \n",
       "707  18  16th Asian Games 2010  \n",
       "708  18  16th Asian Games 2010  \n",
       "709  18  16th Asian Games 2010  "
      ]
     },
     "execution_count": 10,
     "metadata": {},
     "output_type": "execute_result"
    }
   ],
   "source": [
    "data.tail(3)"
   ]
  },
  {
   "cell_type": "markdown",
   "id": "fa5c6256",
   "metadata": {},
   "source": [
    "# 중국 첫 번째 선수"
   ]
  },
  {
   "cell_type": "code",
   "execution_count": 11,
   "id": "a9942de6",
   "metadata": {},
   "outputs": [
    {
     "data": {
      "text/html": [
       "<div>\n",
       "<style scoped>\n",
       "    .dataframe tbody tr th:only-of-type {\n",
       "        vertical-align: middle;\n",
       "    }\n",
       "\n",
       "    .dataframe tbody tr th {\n",
       "        vertical-align: top;\n",
       "    }\n",
       "\n",
       "    .dataframe thead th {\n",
       "        text-align: right;\n",
       "    }\n",
       "</style>\n",
       "<table border=\"1\" class=\"dataframe\">\n",
       "  <thead>\n",
       "    <tr style=\"text-align: right;\">\n",
       "      <th></th>\n",
       "      <th>Name</th>\n",
       "      <th>Event</th>\n",
       "      <th>Event(cat)</th>\n",
       "      <th>Time</th>\n",
       "      <th>Age</th>\n",
       "      <th>Competition</th>\n",
       "    </tr>\n",
       "  </thead>\n",
       "  <tbody>\n",
       "    <tr>\n",
       "      <th>557</th>\n",
       "      <td>Xiang Li</td>\n",
       "      <td>Men 50m Breaststroke</td>\n",
       "      <td>50m Breaststroke</td>\n",
       "      <td>27.52</td>\n",
       "      <td>24</td>\n",
       "      <td>Chinese National Championships (50m)</td>\n",
       "    </tr>\n",
       "    <tr>\n",
       "      <th>558</th>\n",
       "      <td>Xiang Li</td>\n",
       "      <td>Men 100m Breaststroke</td>\n",
       "      <td>100m Breaststroke</td>\n",
       "      <td>60.70</td>\n",
       "      <td>24</td>\n",
       "      <td>Chinese National Championships (50m)</td>\n",
       "    </tr>\n",
       "    <tr>\n",
       "      <th>559</th>\n",
       "      <td>Xiang Li</td>\n",
       "      <td>Men 100m Breaststroke</td>\n",
       "      <td>100m Breaststroke</td>\n",
       "      <td>61.20</td>\n",
       "      <td>24</td>\n",
       "      <td>Chinese National Championships (50m)</td>\n",
       "    </tr>\n",
       "  </tbody>\n",
       "</table>\n",
       "</div>"
      ],
      "text/plain": [
       "         Name                  Event         Event(cat)   Time Age  \\\n",
       "557  Xiang Li   Men 50m Breaststroke   50m Breaststroke  27.52  24   \n",
       "558  Xiang Li  Men 100m Breaststroke  100m Breaststroke  60.70  24   \n",
       "559  Xiang Li  Men 100m Breaststroke  100m Breaststroke  61.20  24   \n",
       "\n",
       "                              Competition  \n",
       "557  Chinese National Championships (50m)  \n",
       "558  Chinese National Championships (50m)  \n",
       "559  Chinese National Championships (50m)  "
      ]
     },
     "execution_count": 11,
     "metadata": {},
     "output_type": "execute_result"
    }
   ],
   "source": [
    "c1 = namer('Xiang Li')\n",
    "c1.head(3)"
   ]
  },
  {
   "cell_type": "code",
   "execution_count": 12,
   "id": "f6edd5f3",
   "metadata": {},
   "outputs": [
    {
     "data": {
      "text/plain": [
       "Men 100m Breaststroke         25\n",
       "Men 200m Breaststroke         18\n",
       "Men 50m Breaststroke          16\n",
       "Men 400m Medley               11\n",
       "Men 1500m Freestyle            9\n",
       "Men 200m Medley                7\n",
       "Mixed 4x50m Medley Relay       5\n",
       "Men 4x100m Medley Relay        3\n",
       "Mixed 4x100m Medley Relay      2\n",
       "Men 100m Butterfly             1\n",
       "Men 200m Butterfly             1\n",
       "Men 200m Backstroke            1\n",
       "Men 100m Backstroke            1\n",
       "Men 400m Freestyle             1\n",
       "Men 4x200m Freestyle Relay     1\n",
       "Name: Event, dtype: int64"
      ]
     },
     "execution_count": 12,
     "metadata": {},
     "output_type": "execute_result"
    }
   ],
   "source": [
    "c1['Event'].value_counts()"
   ]
  },
  {
   "cell_type": "code",
   "execution_count": 13,
   "id": "33c893c3",
   "metadata": {},
   "outputs": [],
   "source": [
    "c1_100_br = event_judge(c1, 'Men 100m Breaststroke')"
   ]
  },
  {
   "cell_type": "code",
   "execution_count": 14,
   "id": "96a6b4b2",
   "metadata": {},
   "outputs": [],
   "source": [
    "scaler = StandardScaler()"
   ]
  },
  {
   "cell_type": "code",
   "execution_count": 15,
   "id": "c21fb4ec",
   "metadata": {},
   "outputs": [],
   "source": [
    "scaler.fit(c1_100_br[['Time']])\n",
    "time_scaled = scaler.transform(c1_100_br[['Time']])\n",
    "c1_100_br['time_scaled'] = time_scaled"
   ]
  },
  {
   "cell_type": "code",
   "execution_count": 16,
   "id": "16f3c81c",
   "metadata": {},
   "outputs": [
    {
     "data": {
      "text/plain": [
       "<matplotlib.collections.PathCollection at 0x1c05a2bb4f0>"
      ]
     },
     "execution_count": 16,
     "metadata": {},
     "output_type": "execute_result"
    },
    {
     "data": {
      "image/png": "[encoded data removed]",
      "text/plain": [
       "<Figure size 432x288 with 1 Axes>"
      ]
     },
     "metadata": {
      "needs_background": "light"
     },
     "output_type": "display_data"
    }
   ],
   "source": [
    "plt.scatter(x=c1_100_br['Age'] , y =c1_100_br['time_scaled'])"
   ]
  },
  {
   "cell_type": "code",
   "execution_count": 17,
   "id": "b8a5399c",
   "metadata": {},
   "outputs": [],
   "source": [
    "# 선수 정규화 자동화 코드\n",
    "def automatic( player_name, competetion):\n",
    "    new = event_judge(player_name, competetion)\n",
    "    scaler.fit(new[['Time']])\n",
    "    hey = scaler.transform(new[['Time']])\n",
    "    new['time_scaled'] = hey*-1\n",
    "    return new"
   ]
  },
  {
   "cell_type": "code",
   "execution_count": 18,
   "id": "998a9ff2",
   "metadata": {},
   "outputs": [
    {
     "data": {
      "text/html": [
       "<div>\n",
       "<style scoped>\n",
       "    .dataframe tbody tr th:only-of-type {\n",
       "        vertical-align: middle;\n",
       "    }\n",
       "\n",
       "    .dataframe tbody tr th {\n",
       "        vertical-align: top;\n",
       "    }\n",
       "\n",
       "    .dataframe thead th {\n",
       "        text-align: right;\n",
       "    }\n",
       "</style>\n",
       "<table border=\"1\" class=\"dataframe\">\n",
       "  <thead>\n",
       "    <tr style=\"text-align: right;\">\n",
       "      <th></th>\n",
       "      <th>Name</th>\n",
       "      <th>Event</th>\n",
       "      <th>Event(cat)</th>\n",
       "      <th>Time</th>\n",
       "      <th>Age</th>\n",
       "      <th>Competition</th>\n",
       "      <th>time_scaled</th>\n",
       "    </tr>\n",
       "  </thead>\n",
       "  <tbody>\n",
       "    <tr>\n",
       "      <th>561</th>\n",
       "      <td>Xiang Li</td>\n",
       "      <td>Men 200m Breaststroke</td>\n",
       "      <td>200m Breaststroke</td>\n",
       "      <td>138.4</td>\n",
       "      <td>24</td>\n",
       "      <td>Spring National CHN Swimming Championhips</td>\n",
       "      <td>-2.482262</td>\n",
       "    </tr>\n",
       "    <tr>\n",
       "      <th>564</th>\n",
       "      <td>Xiang Li</td>\n",
       "      <td>Men 200m Breaststroke</td>\n",
       "      <td>200m Breaststroke</td>\n",
       "      <td>133.2</td>\n",
       "      <td>24</td>\n",
       "      <td>FINA/airweave Swimming World Cup 2017</td>\n",
       "      <td>-0.074596</td>\n",
       "    </tr>\n",
       "    <tr>\n",
       "      <th>572</th>\n",
       "      <td>Xiang Li</td>\n",
       "      <td>Men 200m Breaststroke</td>\n",
       "      <td>200m Breaststroke</td>\n",
       "      <td>130.7</td>\n",
       "      <td>24</td>\n",
       "      <td>2017 National Games</td>\n",
       "      <td>1.082935</td>\n",
       "    </tr>\n",
       "  </tbody>\n",
       "</table>\n",
       "</div>"
      ],
      "text/plain": [
       "         Name                  Event         Event(cat)   Time Age  \\\n",
       "561  Xiang Li  Men 200m Breaststroke  200m Breaststroke  138.4  24   \n",
       "564  Xiang Li  Men 200m Breaststroke  200m Breaststroke  133.2  24   \n",
       "572  Xiang Li  Men 200m Breaststroke  200m Breaststroke  130.7  24   \n",
       "\n",
       "                                   Competition  time_scaled  \n",
       "561  Spring National CHN Swimming Championhips    -2.482262  \n",
       "564      FINA/airweave Swimming World Cup 2017    -0.074596  \n",
       "572                        2017 National Games     1.082935  "
      ]
     },
     "execution_count": 18,
     "metadata": {},
     "output_type": "execute_result"
    }
   ],
   "source": [
    "c1_200_br = automatic( c1,'Men 200m Breaststroke' )\n",
    "c1_200_br.head(3)"
   ]
  },
  {
   "cell_type": "code",
   "execution_count": 19,
   "id": "5b6a50d6",
   "metadata": {},
   "outputs": [
    {
     "data": {
      "text/html": [
       "<div>\n",
       "<style scoped>\n",
       "    .dataframe tbody tr th:only-of-type {\n",
       "        vertical-align: middle;\n",
       "    }\n",
       "\n",
       "    .dataframe tbody tr th {\n",
       "        vertical-align: top;\n",
       "    }\n",
       "\n",
       "    .dataframe thead th {\n",
       "        text-align: right;\n",
       "    }\n",
       "</style>\n",
       "<table border=\"1\" class=\"dataframe\">\n",
       "  <thead>\n",
       "    <tr style=\"text-align: right;\">\n",
       "      <th></th>\n",
       "      <th>Name</th>\n",
       "      <th>Event</th>\n",
       "      <th>Event(cat)</th>\n",
       "      <th>Time</th>\n",
       "      <th>Age</th>\n",
       "      <th>Competition</th>\n",
       "      <th>time_scaled</th>\n",
       "    </tr>\n",
       "  </thead>\n",
       "  <tbody>\n",
       "    <tr>\n",
       "      <th>557</th>\n",
       "      <td>Xiang Li</td>\n",
       "      <td>Men 50m Breaststroke</td>\n",
       "      <td>50m Breaststroke</td>\n",
       "      <td>27.52</td>\n",
       "      <td>24</td>\n",
       "      <td>Chinese National Championships (50m)</td>\n",
       "      <td>0.168073</td>\n",
       "    </tr>\n",
       "    <tr>\n",
       "      <th>560</th>\n",
       "      <td>Xiang Li</td>\n",
       "      <td>Men 50m Breaststroke</td>\n",
       "      <td>50m Breaststroke</td>\n",
       "      <td>27.90</td>\n",
       "      <td>24</td>\n",
       "      <td>Chinese National Championships (50m)</td>\n",
       "      <td>-0.399641</td>\n",
       "    </tr>\n",
       "    <tr>\n",
       "      <th>568</th>\n",
       "      <td>Xiang Li</td>\n",
       "      <td>Men 50m Breaststroke</td>\n",
       "      <td>50m Breaststroke</td>\n",
       "      <td>26.74</td>\n",
       "      <td>24</td>\n",
       "      <td>FINA/airweave Swimming World Cup 2017</td>\n",
       "      <td>1.333380</td>\n",
       "    </tr>\n",
       "  </tbody>\n",
       "</table>\n",
       "</div>"
      ],
      "text/plain": [
       "         Name                 Event        Event(cat)   Time Age  \\\n",
       "557  Xiang Li  Men 50m Breaststroke  50m Breaststroke  27.52  24   \n",
       "560  Xiang Li  Men 50m Breaststroke  50m Breaststroke  27.90  24   \n",
       "568  Xiang Li  Men 50m Breaststroke  50m Breaststroke  26.74  24   \n",
       "\n",
       "                               Competition  time_scaled  \n",
       "557   Chinese National Championships (50m)     0.168073  \n",
       "560   Chinese National Championships (50m)    -0.399641  \n",
       "568  FINA/airweave Swimming World Cup 2017     1.333380  "
      ]
     },
     "execution_count": 19,
     "metadata": {},
     "output_type": "execute_result"
    }
   ],
   "source": [
    "c1_50_br = automatic( c1,'Men 50m Breaststroke' )\n",
    "c1_50_br.head(3)"
   ]
  },
  {
   "cell_type": "code",
   "execution_count": 20,
   "id": "e8bc3b0c",
   "metadata": {},
   "outputs": [],
   "source": [
    "c1_400_m = automatic( c1,'Men 400m Medley' )"
   ]
  },
  {
   "cell_type": "code",
   "execution_count": 21,
   "id": "eafc4c1d",
   "metadata": {},
   "outputs": [],
   "source": [
    "c1_1500_f = automatic( c1,'Men 1500m Freestyle' )"
   ]
  },
  {
   "cell_type": "code",
   "execution_count": 22,
   "id": "a658c3ee",
   "metadata": {},
   "outputs": [],
   "source": [
    "c1_200_m = automatic( c1,'Men 200m Medley' )"
   ]
  },
  {
   "cell_type": "code",
   "execution_count": 23,
   "id": "468aca94",
   "metadata": {},
   "outputs": [],
   "source": [
    "c1_total = pd.concat([c1_200_br,c1_50_br,c1_400_m,c1_1500_f,c1_200_m])"
   ]
  },
  {
   "cell_type": "code",
   "execution_count": 24,
   "id": "ac47b422",
   "metadata": {},
   "outputs": [],
   "source": [
    "c1_total = c1_total.sort_values(by = 'Age' , ascending = True)"
   ]
  },
  {
   "cell_type": "code",
   "execution_count": 25,
   "id": "f2c13c63",
   "metadata": {},
   "outputs": [],
   "source": [
    "from sklearn.preprocessing import PolynomialFeatures\n",
    "from sklearn.linear_model import LinearRegression\n",
    "from sklearn.pipeline import make_pipeline"
   ]
  },
  {
   "cell_type": "code",
   "execution_count": 26,
   "id": "cbb8e75b",
   "metadata": {},
   "outputs": [
    {
     "name": "stdout",
     "output_type": "stream",
     "text": [
      "[[ 6.72836269e+01 -5.50802734e+00  1.96425590e-01 -2.58097459e-03]]\n"
     ]
    }
   ],
   "source": [
    "model_c1_lr = make_pipeline(PolynomialFeatures(degree=4, include_bias=False),\n",
    "                         LinearRegression())\n",
    "\n",
    "model_c1_lr.fit(c1_total[['Age']],y =c1_total[['time_scaled']])\n",
    "print(model_c1_lr.steps[1][1].coef_)"
   ]
  },
  {
   "cell_type": "code",
   "execution_count": 27,
   "id": "77d001b4",
   "metadata": {},
   "outputs": [
    {
     "data": {
      "image/png": "[encoded data removed]",
      "text/plain": [
       "<Figure size 432x288 with 1 Axes>"
      ]
     },
     "metadata": {
      "needs_background": "light"
     },
     "output_type": "display_data"
    }
   ],
   "source": [
    "xx = np.linspace(10, 30, 100)\n",
    "y_pred = model_c1_lr.predict(c1_total[['Age']])\n",
    "plt.plot(c1_total['Age'], y_pred, label = 'regression')\n",
    "\n",
    "plt.scatter(c1_total['Age'] , c1_total['time_scaled'], label = 'value',color = 'red')\n",
    "\n",
    "plt.xlabel('age')\n",
    "plt.ylabel('z-score')\n",
    "plt.legend()\n",
    "plt.title('Xiang Li')\n",
    "\n",
    "\n",
    "plt.show()"
   ]
  },
  {
   "cell_type": "markdown",
   "id": "943c102b",
   "metadata": {},
   "source": [
    "# 중국 2번째 선수"
   ]
  },
  {
   "cell_type": "code",
   "execution_count": 28,
   "id": "94de0b50",
   "metadata": {},
   "outputs": [],
   "source": [
    "c2 = namer('Yun Hao')"
   ]
  },
  {
   "cell_type": "code",
   "execution_count": 29,
   "id": "ff8864af",
   "metadata": {},
   "outputs": [
    {
     "data": {
      "text/plain": [
       "Men 200m Freestyle             16\n",
       "Men 400m Freestyle             15\n",
       "Men 200m Butterfly             11\n",
       "Men 100m Butterfly              9\n",
       "Men 1500m Freestyle             9\n",
       "Men 4x200m Freestyle Relay      8\n",
       "Men 100m Freestyle              7\n",
       "Men 4x100m Freestyle Relay      4\n",
       "Men 200m Medley                 4\n",
       "Men 400m Medley                 2\n",
       "Men 800m Freestyle              2\n",
       "Mixed 4x50m Freestyle Relay     1\n",
       "Mixed 4x50m Medley Relay        1\n",
       "Men 4x50m Freestyle Relay       1\n",
       "Men 4x100m Medley Relay         1\n",
       "Men 100m Medley                 1\n",
       "Name: Event, dtype: int64"
      ]
     },
     "execution_count": 29,
     "metadata": {},
     "output_type": "execute_result"
    }
   ],
   "source": [
    "c2['Event'].value_counts()"
   ]
  },
  {
   "cell_type": "code",
   "execution_count": 30,
   "id": "908c36ff",
   "metadata": {},
   "outputs": [],
   "source": [
    "c2_200_f = automatic( c2,'Men 200m Freestyle' )"
   ]
  },
  {
   "cell_type": "code",
   "execution_count": 31,
   "id": "b33782be",
   "metadata": {},
   "outputs": [],
   "source": [
    "c2_400_f = automatic( c2,'Men 400m Freestyle' )"
   ]
  },
  {
   "cell_type": "code",
   "execution_count": 32,
   "id": "b27c5495",
   "metadata": {},
   "outputs": [],
   "source": [
    "c2_100_b = automatic( c2,'Men 100m Butterfly' )"
   ]
  },
  {
   "cell_type": "code",
   "execution_count": 33,
   "id": "6480a909",
   "metadata": {},
   "outputs": [],
   "source": [
    "c2_1500_f = automatic( c2,'Men 1500m Freestyle' )"
   ]
  },
  {
   "cell_type": "code",
   "execution_count": 34,
   "id": "9b0e41ac",
   "metadata": {},
   "outputs": [],
   "source": [
    "c2_total = pd.concat([c2_200_f,c2_400_f,c2_100_b,c2_1500_f])\n",
    "c2_total = c2_total.sort_values(by = 'Age' , ascending = True)"
   ]
  },
  {
   "cell_type": "code",
   "execution_count": 35,
   "id": "f574d81e",
   "metadata": {},
   "outputs": [
    {
     "name": "stdout",
     "output_type": "stream",
     "text": [
      "[[-1.15034867e+02  8.77869456e+00 -2.95731255e-01  3.70644909e-03]]\n"
     ]
    }
   ],
   "source": [
    "model_c2_lr = make_pipeline(PolynomialFeatures(degree=4, include_bias=False),\n",
    "                         LinearRegression())\n",
    "\n",
    "model_c2_lr.fit(c2_total[['Age']],y =c2_total[['time_scaled']])\n",
    "print(model_c2_lr.steps[1][1].coef_)"
   ]
  },
  {
   "cell_type": "code",
   "execution_count": 36,
   "id": "ab685bfc",
   "metadata": {},
   "outputs": [
    {
     "data": {
      "image/png": "[encoded data removed]",
      "text/plain": [
       "<Figure size 432x288 with 1 Axes>"
      ]
     },
     "metadata": {
      "needs_background": "light"
     },
     "output_type": "display_data"
    }
   ],
   "source": [
    "xx = np.linspace(10, 30, 100)\n",
    "y_pred = model_c2_lr.predict(c2_total[['Age']])\n",
    "plt.plot(c2_total['Age'], y_pred, label = 'regression')\n",
    "\n",
    "plt.scatter(c2_total['Age'] , c2_total['time_scaled'], label = 'value',color = 'red')\n",
    "\n",
    "plt.xlabel('age')\n",
    "plt.ylabel('z-score')\n",
    "plt.legend()\n",
    "plt.title('Yun Hao')\n",
    "\n",
    "\n",
    "plt.show()"
   ]
  },
  {
   "cell_type": "markdown",
   "id": "e6dd11ec",
   "metadata": {},
   "source": [
    "# 중국 3번째 선수"
   ]
  },
  {
   "cell_type": "code",
   "execution_count": 39,
   "id": "1308044c",
   "metadata": {},
   "outputs": [],
   "source": [
    "c3 = namer('Feiyi Cheng')"
   ]
  },
  {
   "cell_type": "code",
   "execution_count": 40,
   "id": "b7c0d5cf",
   "metadata": {},
   "outputs": [
    {
     "data": {
      "text/plain": [
       "Men 100m Backstroke         17\n",
       "Men 50m Backstroke          16\n",
       "Men 200m Backstroke         14\n",
       "Men 4x100m Medley Relay      7\n",
       "Mixed 4x50m Medley Relay     1\n",
       "Men 100m Medley              1\n",
       "Name: Event, dtype: int64"
      ]
     },
     "execution_count": 40,
     "metadata": {},
     "output_type": "execute_result"
    }
   ],
   "source": [
    "c3['Event'].value_counts()"
   ]
  },
  {
   "cell_type": "code",
   "execution_count": 41,
   "id": "5a454af4",
   "metadata": {},
   "outputs": [],
   "source": [
    "c3_100_b = automatic( c3,'Men 100m Backstroke' )"
   ]
  },
  {
   "cell_type": "code",
   "execution_count": 42,
   "id": "ecda43be",
   "metadata": {},
   "outputs": [],
   "source": [
    "c3_50_b = automatic( c3,'Men 50m Backstroke' )"
   ]
  },
  {
   "cell_type": "code",
   "execution_count": 43,
   "id": "42940837",
   "metadata": {},
   "outputs": [],
   "source": [
    "c3_200_b = automatic( c3,'Men 200m Backstroke' )"
   ]
  },
  {
   "cell_type": "code",
   "execution_count": 44,
   "id": "cd4ba4a1",
   "metadata": {},
   "outputs": [],
   "source": [
    "c3_total = pd.concat([c3_100_b,c3_50_b,c3_200_b])\n",
    "c3_total = c3_total.sort_values(by = 'Age' , ascending = True)"
   ]
  },
  {
   "cell_type": "code",
   "execution_count": 45,
   "id": "56b80a72",
   "metadata": {},
   "outputs": [
    {
     "name": "stdout",
     "output_type": "stream",
     "text": [
      "[[-2.87161936e+03  2.15607295e+02 -7.17189287e+00  8.91842706e-02]]\n"
     ]
    }
   ],
   "source": [
    "model_c3_lr = make_pipeline(PolynomialFeatures(degree=4, include_bias=False),\n",
    "                         LinearRegression())\n",
    "\n",
    "model_c3_lr.fit(c3_total[['Age']],y =c3_total[['time_scaled']])\n",
    "print(model_c3_lr.steps[1][1].coef_)"
   ]
  },
  {
   "cell_type": "code",
   "execution_count": 46,
   "id": "8a21251e",
   "metadata": {},
   "outputs": [
    {
     "data": {
      "image/png": "[encoded data removed]",
      "text/plain": [
       "<Figure size 432x288 with 1 Axes>"
      ]
     },
     "metadata": {
      "needs_background": "light"
     },
     "output_type": "display_data"
    }
   ],
   "source": [
    "xx = np.linspace(10, 30, 100)\n",
    "y_pred = model_c3_lr.predict(c3_total[['Age']])\n",
    "plt.plot(c3_total['Age'], y_pred, label = 'regression')\n",
    "\n",
    "plt.scatter(c3_total['Age'] , c3_total['time_scaled'], label = 'value',color = 'red')\n",
    "\n",
    "plt.xlabel('age')\n",
    "plt.ylabel('z-score')\n",
    "plt.legend()\n",
    "plt.title('Feiyi Cheng')\n",
    "\n",
    "\n",
    "plt.show()"
   ]
  },
  {
   "cell_type": "markdown",
   "id": "0fbd9065",
   "metadata": {},
   "source": [
    "# 중국 4번째 선수"
   ]
  },
  {
   "cell_type": "code",
   "execution_count": 47,
   "id": "79db9054",
   "metadata": {},
   "outputs": [],
   "source": [
    "c4 = namer('Junyi He')"
   ]
  },
  {
   "cell_type": "code",
   "execution_count": 48,
   "id": "ac93f771",
   "metadata": {},
   "outputs": [
    {
     "data": {
      "text/plain": [
       "Men 100m Freestyle              17\n",
       "Men 50m Freestyle                9\n",
       "Men 200m Freestyle               9\n",
       "Men 4x100m Freestyle Relay       4\n",
       "Men 4x100m Medley Relay          3\n",
       "Mixed 4x100m Freestyle Relay     3\n",
       "Men 400m Freestyle               2\n",
       "Men 4x50m Freestyle Relay        1\n",
       "Men 1500m Freestyle              1\n",
       "Name: Event, dtype: int64"
      ]
     },
     "execution_count": 48,
     "metadata": {},
     "output_type": "execute_result"
    }
   ],
   "source": [
    "c4['Event'].value_counts()"
   ]
  },
  {
   "cell_type": "code",
   "execution_count": 50,
   "id": "938b4c5b",
   "metadata": {},
   "outputs": [],
   "source": [
    "c4_100_f = automatic( c4,'Men 100m Freestyle' )"
   ]
  },
  {
   "cell_type": "code",
   "execution_count": 51,
   "id": "9b1d4a18",
   "metadata": {},
   "outputs": [],
   "source": [
    "c4_50_f = automatic( c4,'Men 50m Freestyle' )"
   ]
  },
  {
   "cell_type": "code",
   "execution_count": 52,
   "id": "9811392b",
   "metadata": {},
   "outputs": [],
   "source": [
    "c4_200_f = automatic( c4,'Men 200m Freestyle' )"
   ]
  },
  {
   "cell_type": "code",
   "execution_count": 53,
   "id": "af01b8b5",
   "metadata": {},
   "outputs": [],
   "source": [
    "c4_total = pd.concat([c4_100_f,c4_50_f,c4_200_f])\n",
    "c4_total = c4_total.sort_values(by = 'Age' , ascending = True)"
   ]
  },
  {
   "cell_type": "code",
   "execution_count": 54,
   "id": "f084e020",
   "metadata": {},
   "outputs": [
    {
     "name": "stdout",
     "output_type": "stream",
     "text": [
      "[[-1.13293746e+03  7.93200464e+01 -2.45506265e+00  2.83473000e-02]]\n"
     ]
    }
   ],
   "source": [
    "model_c4_lr = make_pipeline(PolynomialFeatures(degree=4, include_bias=False),\n",
    "                         LinearRegression())\n",
    "\n",
    "model_c4_lr.fit(c4_total[['Age']],y =c4_total[['time_scaled']])\n",
    "print(model_c4_lr.steps[1][1].coef_)"
   ]
  },
  {
   "cell_type": "code",
   "execution_count": 55,
   "id": "6d187892",
   "metadata": {},
   "outputs": [
    {
     "data": {
      "image/png": "[encoded data removed]",
      "text/plain": [
       "<Figure size 432x288 with 1 Axes>"
      ]
     },
     "metadata": {
      "needs_background": "light"
     },
     "output_type": "display_data"
    }
   ],
   "source": [
    "xx = np.linspace(10, 30, 100)\n",
    "y_pred = model_c4_lr.predict(c4_total[['Age']])\n",
    "plt.plot(c4_total['Age'], y_pred, label = 'regression')\n",
    "\n",
    "plt.scatter(c4_total['Age'] , c4_total['time_scaled'], label = 'value',color = 'red')\n",
    "\n",
    "plt.xlabel('age')\n",
    "plt.ylabel('z-score')\n",
    "plt.legend()\n",
    "plt.title('Junyi He')\n",
    "\n",
    "\n",
    "plt.show()"
   ]
  },
  {
   "cell_type": "markdown",
   "id": "08893d0b",
   "metadata": {},
   "source": [
    "# 중국 5번째 선수"
   ]
  },
  {
   "cell_type": "code",
   "execution_count": 56,
   "id": "ee3bd56f",
   "metadata": {},
   "outputs": [],
   "source": [
    "c5 = namer('Jigong Diao')"
   ]
  },
  {
   "cell_type": "code",
   "execution_count": 57,
   "id": "33130bbd",
   "metadata": {},
   "outputs": [
    {
     "data": {
      "text/plain": [
       "Men 200m Backstroke          15\n",
       "Men 100m Backstroke          13\n",
       "Men 200m Freestyle            5\n",
       "Men 400m Freestyle            4\n",
       "Men 50m Backstroke            2\n",
       "Mixed 4x100m Medley Relay     1\n",
       "Men 100m Freestyle            1\n",
       "Men 50m Freestyle             1\n",
       "Name: Event, dtype: int64"
      ]
     },
     "execution_count": 57,
     "metadata": {},
     "output_type": "execute_result"
    }
   ],
   "source": [
    "c5['Event'].value_counts()"
   ]
  },
  {
   "cell_type": "code",
   "execution_count": 58,
   "id": "759256a5",
   "metadata": {},
   "outputs": [],
   "source": [
    "c5_200_b = automatic( c5,'Men 200m Backstroke' )"
   ]
  },
  {
   "cell_type": "code",
   "execution_count": 59,
   "id": "14d993f5",
   "metadata": {},
   "outputs": [],
   "source": [
    "c5_100_b = automatic( c5,'Men 100m Backstroke' )"
   ]
  },
  {
   "cell_type": "code",
   "execution_count": 60,
   "id": "581bb12b",
   "metadata": {},
   "outputs": [],
   "source": [
    "c5_total = pd.concat([c5_200_b,c5_100_b])\n",
    "c5_total = c5_total.sort_values(by = 'Age' , ascending = True)"
   ]
  },
  {
   "cell_type": "code",
   "execution_count": 61,
   "id": "da5c3d55",
   "metadata": {},
   "outputs": [
    {
     "name": "stdout",
     "output_type": "stream",
     "text": [
      "[[-2.76615343e-01 -4.40629286e+00  2.41812233e-01 -3.72680753e-03]]\n"
     ]
    }
   ],
   "source": [
    "model_c5_lr = make_pipeline(PolynomialFeatures(degree=4, include_bias=False),\n",
    "                         LinearRegression())\n",
    "\n",
    "model_c5_lr.fit(c5_total[['Age']],y =c5_total[['time_scaled']])\n",
    "print(model_c5_lr.steps[1][1].coef_)"
   ]
  },
  {
   "cell_type": "code",
   "execution_count": 62,
   "id": "8e0cff66",
   "metadata": {},
   "outputs": [
    {
     "data": {
      "image/png": "[encoded data removed]",
      "text/plain": [
       "<Figure size 432x288 with 1 Axes>"
      ]
     },
     "metadata": {
      "needs_background": "light"
     },
     "output_type": "display_data"
    }
   ],
   "source": [
    "xx = np.linspace(10, 30, 100)\n",
    "y_pred = model_c5_lr.predict(c5_total[['Age']])\n",
    "plt.plot(c5_total['Age'], y_pred, label = 'regression')\n",
    "\n",
    "plt.scatter(c5_total['Age'] , c5_total['time_scaled'], label = 'value',color = 'red')\n",
    "\n",
    "plt.xlabel('age')\n",
    "plt.ylabel('z-score')\n",
    "plt.legend()\n",
    "plt.title('Jigong Diao')\n",
    "\n",
    "\n",
    "plt.show()"
   ]
  },
  {
   "cell_type": "markdown",
   "id": "331bac0d",
   "metadata": {},
   "source": [
    "# 중국 6번째 선수"
   ]
  },
  {
   "cell_type": "code",
   "execution_count": 63,
   "id": "b6c3daa0",
   "metadata": {},
   "outputs": [],
   "source": [
    "c6 = namer('Yujie Hou')"
   ]
  },
  {
   "cell_type": "code",
   "execution_count": 64,
   "id": "fbbfa7eb",
   "metadata": {},
   "outputs": [
    {
     "data": {
      "text/plain": [
       "Men 100m Freestyle             12\n",
       "Men 50m Freestyle               5\n",
       "Men 200m Freestyle              5\n",
       "Men 4x100m Freestyle Relay      4\n",
       "Mixed 4x50m Freestyle Relay     2\n",
       "Men 400m Freestyle              2\n",
       "Men 4x100m Medley Relay         1\n",
       "Men 4x50m Freestyle Relay       1\n",
       "Men 4x200m Freestyle Relay      1\n",
       "Men 100m Butterfly              1\n",
       "Name: Event, dtype: int64"
      ]
     },
     "execution_count": 64,
     "metadata": {},
     "output_type": "execute_result"
    }
   ],
   "source": [
    "c6['Event'].value_counts()"
   ]
  },
  {
   "cell_type": "code",
   "execution_count": 65,
   "id": "b5ab6a2c",
   "metadata": {},
   "outputs": [],
   "source": [
    "c6_100_f = automatic( c6,'Men 100m Freestyle' )"
   ]
  },
  {
   "cell_type": "code",
   "execution_count": 66,
   "id": "97e91e21",
   "metadata": {},
   "outputs": [],
   "source": [
    "c6_total = c6_100_f.sort_values(by = 'Age' , ascending = True)"
   ]
  },
  {
   "cell_type": "code",
   "execution_count": 67,
   "id": "4794e673",
   "metadata": {},
   "outputs": [
    {
     "name": "stdout",
     "output_type": "stream",
     "text": [
      "[[ 1.11368408e+02 -9.07751164e+00  3.30586013e-01 -4.51706341e-03]]\n"
     ]
    }
   ],
   "source": [
    "model_c6_lr = make_pipeline(PolynomialFeatures(degree=4, include_bias=False),\n",
    "                         LinearRegression())\n",
    "\n",
    "model_c6_lr.fit(c6_total[['Age']],y =c6_total[['time_scaled']])\n",
    "print(model_c6_lr.steps[1][1].coef_)"
   ]
  },
  {
   "cell_type": "code",
   "execution_count": 68,
   "id": "b274eae1",
   "metadata": {},
   "outputs": [
    {
     "data": {
      "image/png": "[encoded data removed]",
      "text/plain": [
       "<Figure size 432x288 with 1 Axes>"
      ]
     },
     "metadata": {
      "needs_background": "light"
     },
     "output_type": "display_data"
    }
   ],
   "source": [
    "xx = np.linspace(10, 30, 100)\n",
    "y_pred = model_c6_lr.predict(c6_total[['Age']])\n",
    "plt.plot(c6_total['Age'], y_pred, label = 'regression')\n",
    "\n",
    "plt.scatter(c6_total['Age'] , c6_total['time_scaled'], label = 'value',color = 'red')\n",
    "\n",
    "plt.xlabel('age')\n",
    "plt.ylabel('z-score')\n",
    "plt.legend()\n",
    "plt.title('Yujie Hou')\n",
    "\n",
    "\n",
    "plt.show()"
   ]
  },
  {
   "cell_type": "markdown",
   "id": "1f85f193",
   "metadata": {},
   "source": [
    "# 중국 7번째 선수"
   ]
  },
  {
   "cell_type": "code",
   "execution_count": 69,
   "id": "ff2e7867",
   "metadata": {},
   "outputs": [],
   "source": [
    "c7 = namer('Liwei Fei')"
   ]
  },
  {
   "cell_type": "code",
   "execution_count": 70,
   "id": "6e7199c8",
   "metadata": {},
   "outputs": [
    {
     "data": {
      "text/plain": [
       "Men 400m Freestyle            10\n",
       "Men 1500m Freestyle            8\n",
       "Men 200m Freestyle             7\n",
       "Men 800m Freestyle             6\n",
       "Men 50m Freestyle              2\n",
       "Men 4x200m Freestyle Relay     1\n",
       "Name: Event, dtype: int64"
      ]
     },
     "execution_count": 70,
     "metadata": {},
     "output_type": "execute_result"
    }
   ],
   "source": [
    "c7['Event'].value_counts()"
   ]
  },
  {
   "cell_type": "code",
   "execution_count": 71,
   "id": "1601e14b",
   "metadata": {},
   "outputs": [],
   "source": [
    "c7_400_f = automatic( c7,'Men 400m Freestyle' )"
   ]
  },
  {
   "cell_type": "code",
   "execution_count": 72,
   "id": "69c038e1",
   "metadata": {},
   "outputs": [],
   "source": [
    "c7_1500_f = automatic( c7,'Men 1500m Freestyle' )"
   ]
  },
  {
   "cell_type": "code",
   "execution_count": 73,
   "id": "8771e699",
   "metadata": {},
   "outputs": [],
   "source": [
    "c7_200_f = automatic( c7,'Men 200m Freestyle' )"
   ]
  },
  {
   "cell_type": "code",
   "execution_count": 74,
   "id": "9440d20f",
   "metadata": {},
   "outputs": [],
   "source": [
    "c7_total = pd.concat([c7_400_f,c7_1500_f,c7_200_f])\n",
    "c7_total = c7_total.sort_values(by = 'Age' , ascending = True)"
   ]
  },
  {
   "cell_type": "code",
   "execution_count": 75,
   "id": "f5c7bd3a",
   "metadata": {},
   "outputs": [
    {
     "name": "stdout",
     "output_type": "stream",
     "text": [
      "[[ 3.47265974e+03 -3.25984165e+02  1.35558895e+01 -2.10683591e-01]]\n"
     ]
    }
   ],
   "source": [
    "model_c7_lr = make_pipeline(PolynomialFeatures(degree=4, include_bias=False),\n",
    "                         LinearRegression())\n",
    "\n",
    "model_c7_lr.fit(c7_total[['Age']],y =c7_total[['time_scaled']])\n",
    "print(model_c7_lr.steps[1][1].coef_)"
   ]
  },
  {
   "cell_type": "code",
   "execution_count": 76,
   "id": "35fb169f",
   "metadata": {},
   "outputs": [
    {
     "data": {
      "image/png": "[encoded data removed]",
      "text/plain": [
       "<Figure size 432x288 with 1 Axes>"
      ]
     },
     "metadata": {
      "needs_background": "light"
     },
     "output_type": "display_data"
    }
   ],
   "source": [
    "xx = np.linspace(10, 30, 100)\n",
    "y_pred = model_c7_lr.predict(c7_total[['Age']])\n",
    "plt.plot(c7_total['Age'], y_pred, label = 'regression')\n",
    "\n",
    "plt.scatter(c7_total['Age'] , c7_total['time_scaled'], label = 'value',color = 'red')\n",
    "\n",
    "plt.xlabel('age')\n",
    "plt.ylabel('z-score')\n",
    "plt.legend()\n",
    "plt.title('Liwei Fei')\n",
    "\n",
    "\n",
    "plt.show()"
   ]
  },
  {
   "cell_type": "markdown",
   "id": "e307abb7",
   "metadata": {},
   "source": [
    "# 중국 8번째 선수"
   ]
  },
  {
   "cell_type": "code",
   "execution_count": 82,
   "id": "253cd594",
   "metadata": {},
   "outputs": [],
   "source": [
    "c8 = namer('Jinlong Hong')"
   ]
  },
  {
   "cell_type": "code",
   "execution_count": 83,
   "id": "f28161ef",
   "metadata": {},
   "outputs": [
    {
     "data": {
      "text/plain": [
       "Men 200m Freestyle             12\n",
       "Men 400m Freestyle              9\n",
       "Men 100m Freestyle              7\n",
       "Men 50m Freestyle               3\n",
       "Men 4x200m Freestyle Relay      1\n",
       "Mixed 4x50m Freestyle Relay     1\n",
       "Name: Event, dtype: int64"
      ]
     },
     "execution_count": 83,
     "metadata": {},
     "output_type": "execute_result"
    }
   ],
   "source": [
    "c8['Event'].value_counts()"
   ]
  },
  {
   "cell_type": "code",
   "execution_count": 84,
   "id": "e70b5ba2",
   "metadata": {},
   "outputs": [],
   "source": [
    "c8_200_f = automatic( c8,'Men 200m Freestyle' )"
   ]
  },
  {
   "cell_type": "code",
   "execution_count": 85,
   "id": "0f4e4cc5",
   "metadata": {},
   "outputs": [],
   "source": [
    "c8_400_f = automatic( c8,'Men 400m Freestyle' )"
   ]
  },
  {
   "cell_type": "code",
   "execution_count": 86,
   "id": "221e30ca",
   "metadata": {},
   "outputs": [],
   "source": [
    "c8_100_f = automatic( c8,'Men 100m Freestyle' )"
   ]
  },
  {
   "cell_type": "code",
   "execution_count": 87,
   "id": "f917f603",
   "metadata": {},
   "outputs": [],
   "source": [
    "c8_total = pd.concat([c8_200_f,c8_400_f,c8_100_f])\n",
    "c8_total = c8_total.sort_values(by = 'Age' , ascending = True)"
   ]
  },
  {
   "cell_type": "code",
   "execution_count": 88,
   "id": "cfe7e7a0",
   "metadata": {},
   "outputs": [
    {
     "name": "stdout",
     "output_type": "stream",
     "text": [
      "[[ 9.92334328e+01 -6.75549878e+00  2.02678171e-01 -2.26807250e-03]]\n"
     ]
    }
   ],
   "source": [
    "model_c8_lr = make_pipeline(PolynomialFeatures(degree=4, include_bias=False),\n",
    "                         LinearRegression())\n",
    "\n",
    "model_c8_lr.fit(c8_total[['Age']],y =c8_total[['time_scaled']])\n",
    "print(model_c8_lr.steps[1][1].coef_)"
   ]
  },
  {
   "cell_type": "code",
   "execution_count": 89,
   "id": "e309c572",
   "metadata": {},
   "outputs": [
    {
     "data": {
      "image/png": "[encoded data removed]",
      "text/plain": [
       "<Figure size 432x288 with 1 Axes>"
      ]
     },
     "metadata": {
      "needs_background": "light"
     },
     "output_type": "display_data"
    }
   ],
   "source": [
    "xx = np.linspace(10, 30, 100)\n",
    "y_pred = model_c8_lr.predict(c8_total[['Age']])\n",
    "plt.plot(c8_total['Age'], y_pred, label = 'regression')\n",
    "\n",
    "plt.scatter(c8_total['Age'] , c8_total['time_scaled'], label = 'value',color = 'red')\n",
    "\n",
    "plt.xlabel('age')\n",
    "plt.ylabel('z-score')\n",
    "plt.legend()\n",
    "plt.title('Jinlong Hong')\n",
    "\n",
    "\n",
    "plt.show()"
   ]
  },
  {
   "cell_type": "markdown",
   "id": "daa6984b",
   "metadata": {},
   "source": [
    "# 중국 9번째 선수"
   ]
  },
  {
   "cell_type": "code",
   "execution_count": 90,
   "id": "32c53342",
   "metadata": {},
   "outputs": [],
   "source": [
    "c9 = namer('Bao Ban')"
   ]
  },
  {
   "cell_type": "code",
   "execution_count": 91,
   "id": "d07dc09a",
   "metadata": {},
   "outputs": [
    {
     "data": {
      "text/plain": [
       "Men 50m Freestyle             13\n",
       "Men 100m Freestyle             8\n",
       "Men 50m Butterfly              4\n",
       "Men 4x100m Freestyle Relay     3\n",
       "Men 4x200m Freestyle Relay     2\n",
       "Men 200m Freestyle             2\n",
       "Men 4x100m Medley Relay        1\n",
       "Name: Event, dtype: int64"
      ]
     },
     "execution_count": 91,
     "metadata": {},
     "output_type": "execute_result"
    }
   ],
   "source": [
    "c9['Event'].value_counts()"
   ]
  },
  {
   "cell_type": "code",
   "execution_count": 92,
   "id": "0acee863",
   "metadata": {},
   "outputs": [],
   "source": [
    "c9_50_f = automatic( c9,'Men 50m Freestyle' )"
   ]
  },
  {
   "cell_type": "code",
   "execution_count": 93,
   "id": "78983fb1",
   "metadata": {},
   "outputs": [],
   "source": [
    "c9_100_f = automatic( c9,'Men 100m Freestyle' )"
   ]
  },
  {
   "cell_type": "code",
   "execution_count": 94,
   "id": "10e2ec61",
   "metadata": {},
   "outputs": [],
   "source": [
    "c9_total = pd.concat([c9_50_f,c9_100_f])\n",
    "c9_total = c9_total.sort_values(by = 'Age' , ascending = True)"
   ]
  },
  {
   "cell_type": "code",
   "execution_count": 95,
   "id": "f6ae3b3f",
   "metadata": {},
   "outputs": [
    {
     "name": "stdout",
     "output_type": "stream",
     "text": [
      "[[ 1.30828130e+02 -8.42588797e+00  2.39092699e-01 -2.52325174e-03]]\n"
     ]
    }
   ],
   "source": [
    "model_c9_lr = make_pipeline(PolynomialFeatures(degree=4, include_bias=False),\n",
    "                         LinearRegression())\n",
    "\n",
    "model_c9_lr.fit(c9_total[['Age']],y =c9_total[['time_scaled']])\n",
    "print(model_c9_lr.steps[1][1].coef_)"
   ]
  },
  {
   "cell_type": "code",
   "execution_count": 96,
   "id": "968c5b42",
   "metadata": {},
   "outputs": [
    {
     "data": {
      "image/png": "[encoded data removed]",
      "text/plain": [
       "<Figure size 432x288 with 1 Axes>"
      ]
     },
     "metadata": {
      "needs_background": "light"
     },
     "output_type": "display_data"
    }
   ],
   "source": [
    "xx = np.linspace(10, 30, 100)\n",
    "y_pred = model_c9_lr.predict(c9_total[['Age']])\n",
    "plt.plot(c9_total['Age'], y_pred, label = 'regression')\n",
    "\n",
    "plt.scatter(c9_total['Age'] , c9_total['time_scaled'], label = 'value',color = 'red')\n",
    "\n",
    "plt.xlabel('age')\n",
    "plt.ylabel('z-score')\n",
    "plt.legend()\n",
    "plt.title('Bao Ban')\n",
    "\n",
    "\n",
    "plt.show()"
   ]
  },
  {
   "cell_type": "markdown",
   "id": "a7c3f0cc",
   "metadata": {},
   "source": [
    "# 중국 10번째 선수"
   ]
  },
  {
   "cell_type": "code",
   "execution_count": 97,
   "id": "03e11081",
   "metadata": {},
   "outputs": [],
   "source": [
    "c10 = namer('Yifan Dong')"
   ]
  },
  {
   "cell_type": "code",
   "execution_count": 98,
   "id": "5479aecc",
   "metadata": {},
   "outputs": [
    {
     "data": {
      "text/plain": [
       "Men 100m Breaststroke          13\n",
       "Men 200m Breaststroke           8\n",
       "Men 200m Medley                 3\n",
       "Men 50m Freestyle               2\n",
       "Men 50m Breaststroke            2\n",
       "Mixed 4x50m Medley Relay        2\n",
       "Men 4x100m Medley Relay         1\n",
       "Men 100m Medley                 1\n",
       "Mixed 4x50m Freestyle Relay     1\n",
       "Name: Event, dtype: int64"
      ]
     },
     "execution_count": 98,
     "metadata": {},
     "output_type": "execute_result"
    }
   ],
   "source": [
    "c10['Event'].value_counts()"
   ]
  },
  {
   "cell_type": "code",
   "execution_count": 99,
   "id": "2238b1ad",
   "metadata": {},
   "outputs": [],
   "source": [
    "c10_100_br= automatic( c10,'Men 100m Breaststroke' )"
   ]
  },
  {
   "cell_type": "code",
   "execution_count": 100,
   "id": "c5093c2f",
   "metadata": {},
   "outputs": [],
   "source": [
    "c10_200_br= automatic( c10,'Men 200m Breaststroke' )"
   ]
  },
  {
   "cell_type": "code",
   "execution_count": 101,
   "id": "967f3a67",
   "metadata": {},
   "outputs": [],
   "source": [
    "c10_total = pd.concat([c10_100_br,c10_200_br])\n",
    "c10_total = c10_total.sort_values(by = 'Age' , ascending = True)"
   ]
  },
  {
   "cell_type": "code",
   "execution_count": 102,
   "id": "7dd0ffbf",
   "metadata": {},
   "outputs": [
    {
     "name": "stdout",
     "output_type": "stream",
     "text": [
      "[[-2.19879575e+03  1.78389298e+02 -6.42031864e+00  8.64994535e-02]]\n"
     ]
    }
   ],
   "source": [
    "model_c10_lr = make_pipeline(PolynomialFeatures(degree=4, include_bias=False),\n",
    "                         LinearRegression())\n",
    "\n",
    "model_c10_lr.fit(c10_total[['Age']],y =c10_total[['time_scaled']])\n",
    "print(model_c10_lr.steps[1][1].coef_)"
   ]
  },
  {
   "cell_type": "code",
   "execution_count": 103,
   "id": "955846fe",
   "metadata": {},
   "outputs": [
    {
     "data": {
      "image/png": "[encoded data removed]",
      "text/plain": [
       "<Figure size 432x288 with 1 Axes>"
      ]
     },
     "metadata": {
      "needs_background": "light"
     },
     "output_type": "display_data"
    }
   ],
   "source": [
    "xx = np.linspace(10, 30, 100)\n",
    "y_pred = model_c10_lr.predict(c10_total[['Age']])\n",
    "plt.plot(c10_total['Age'], y_pred, label = 'regression')\n",
    "\n",
    "plt.scatter(c10_total['Age'] , c10_total['time_scaled'], label = 'value',color = 'red')\n",
    "\n",
    "plt.xlabel('age')\n",
    "plt.ylabel('z-score')\n",
    "plt.legend()\n",
    "plt.title('Yifan Dong')\n",
    "\n",
    "\n",
    "plt.show()"
   ]
  },
  {
   "cell_type": "markdown",
   "id": "a16ffa81",
   "metadata": {},
   "source": [
    "# 중국 11번째 선수"
   ]
  },
  {
   "cell_type": "code",
   "execution_count": null,
   "id": "1e1b322a",
   "metadata": {},
   "outputs": [],
   "source": []
  }
 ],
 "metadata": {
  "kernelspec": {
   "display_name": "Python 3 (ipykernel)",
   "language": "python",
   "name": "python3"
  },
  "language_info": {
   "codemirror_mode": {
    "name": "ipython",
    "version": 3
   },
   "file_extension": ".py",
   "mimetype": "text/x-python",
   "name": "python",
   "nbconvert_exporter": "python",
   "pygments_lexer": "ipython3",
   "version": "3.9.7"
  }
 },
 "nbformat": 4,
 "nbformat_minor": 5
}
