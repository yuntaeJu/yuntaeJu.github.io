{
 "cells": [
  {
   "cell_type": "code",
   "execution_count": 1,
   "id": "0f19bc95",
   "metadata": {},
   "outputs": [],
   "source": [
    "import pandas as pd"
   ]
  },
  {
   "cell_type": "code",
   "execution_count": 7,
   "id": "fe817789",
   "metadata": {},
   "outputs": [],
   "source": [
    "for numb in range(1,22):\n",
    "    address = 'https://www.letour.fr/en/rankings/stage-' + str(numb)\n",
    "    html = pd.read_html(address)\n",
    "    data = html[0]\n",
    "    data.to_csv('2022_data' + str(numb) +'.'+'csv')\n"
   ]
  },
  {
   "cell_type": "code",
   "execution_count": null,
   "id": "c05b0b7f",
   "metadata": {},
   "outputs": [],
   "source": []
  }
 ],
 "metadata": {
  "kernelspec": {
   "display_name": "Python 3 (ipykernel)",
   "language": "python",
   "name": "python3"
  },
  "language_info": {
   "codemirror_mode": {
    "name": "ipython",
    "version": 3
   },
   "file_extension": ".py",
   "mimetype": "text/x-python",
   "name": "python",
   "nbconvert_exporter": "python",
   "pygments_lexer": "ipython3",
   "version": "3.9.7"
  }
 },
 "nbformat": 4,
 "nbformat_minor": 5
}
